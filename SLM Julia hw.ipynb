{
 "cells": [
  {
   "cell_type": "code",
   "execution_count": 9,
   "id": "9d5b6f4a",
   "metadata": {},
   "outputs": [
    {
     "name": "stdout",
     "output_type": "stream",
     "text": [
      "s = 10\n",
      "s = 20\n",
      "s = 30\n",
      "s = 40\n",
      "s = 50\n",
      "s = 60\n",
      "s = 70\n",
      "s = 80\n",
      "s = 90\n",
      "s = 100\n",
      "s = 110\n",
      "s = 120\n",
      "s = 130\n",
      "s = 140\n",
      "s = 150\n",
      "s = 160\n",
      "s = 170\n",
      "s = 180\n",
      "s = 190\n",
      "s = 200\n",
      " 44.869655 seconds (55.92 M allocations: 6.058 GiB, 5.31% gc time, 51.67% compilation time)\n"
     ]
    },
    {
     "data": {
      "image/svg+xml": [
       "<?xml version=\"1.0\" encoding=\"utf-8\"?>\n",
       "<svg xmlns=\"http://www.w3.org/2000/svg\" xmlns:xlink=\"http://www.w3.org/1999/xlink\" width=\"600\" height=\"400\" viewBox=\"0 0 2400 1600\">\n",
       "<defs>\n",
       "  <clipPath id=\"clip980\">\n",
       "    <rect x=\"0\" y=\"0\" width=\"2400\" height=\"1600\"/>\n",
       "  </clipPath>\n",
       "</defs>\n",
       "<path clip-path=\"url(#clip980)\" d=\"M0 1600 L2400 1600 L2400 0 L0 0  Z\" fill=\"#ffffff\" fill-rule=\"evenodd\" fill-opacity=\"1\"/>\n",
       "<defs>\n",
       "  <clipPath id=\"clip981\">\n",
       "    <rect x=\"480\" y=\"0\" width=\"1681\" height=\"1600\"/>\n",
       "  </clipPath>\n",
       "</defs>\n",
       "<path clip-path=\"url(#clip980)\" d=\"M219.866 1423.18 L2352.76 1423.18 L2352.76 47.2441 L219.866 47.2441  Z\" fill=\"#ffffff\" fill-rule=\"evenodd\" fill-opacity=\"1\"/>\n",
       "<defs>\n",
       "  <clipPath id=\"clip982\">\n",
       "    <rect x=\"219\" y=\"47\" width=\"2134\" height=\"1377\"/>\n",
       "  </clipPath>\n",
       "</defs>\n",
       "<polyline clip-path=\"url(#clip982)\" style=\"stroke:#000000; stroke-linecap:round; stroke-linejoin:round; stroke-width:2; stroke-opacity:0.1; fill:none\" points=\"703.844,1423.18 703.844,47.2441 \"/>\n",
       "<polyline clip-path=\"url(#clip982)\" style=\"stroke:#000000; stroke-linecap:round; stroke-linejoin:round; stroke-width:2; stroke-opacity:0.1; fill:none\" points=\"1233.36,1423.18 1233.36,47.2441 \"/>\n",
       "<polyline clip-path=\"url(#clip982)\" style=\"stroke:#000000; stroke-linecap:round; stroke-linejoin:round; stroke-width:2; stroke-opacity:0.1; fill:none\" points=\"1762.88,1423.18 1762.88,47.2441 \"/>\n",
       "<polyline clip-path=\"url(#clip982)\" style=\"stroke:#000000; stroke-linecap:round; stroke-linejoin:round; stroke-width:2; stroke-opacity:0.1; fill:none\" points=\"2292.39,1423.18 2292.39,47.2441 \"/>\n",
       "<polyline clip-path=\"url(#clip980)\" style=\"stroke:#000000; stroke-linecap:round; stroke-linejoin:round; stroke-width:4; stroke-opacity:1; fill:none\" points=\"219.866,1423.18 2352.76,1423.18 \"/>\n",
       "<polyline clip-path=\"url(#clip980)\" style=\"stroke:#000000; stroke-linecap:round; stroke-linejoin:round; stroke-width:4; stroke-opacity:1; fill:none\" points=\"703.844,1423.18 703.844,1404.28 \"/>\n",
       "<polyline clip-path=\"url(#clip980)\" style=\"stroke:#000000; stroke-linecap:round; stroke-linejoin:round; stroke-width:4; stroke-opacity:1; fill:none\" points=\"1233.36,1423.18 1233.36,1404.28 \"/>\n",
       "<polyline clip-path=\"url(#clip980)\" style=\"stroke:#000000; stroke-linecap:round; stroke-linejoin:round; stroke-width:4; stroke-opacity:1; fill:none\" points=\"1762.88,1423.18 1762.88,1404.28 \"/>\n",
       "<polyline clip-path=\"url(#clip980)\" style=\"stroke:#000000; stroke-linecap:round; stroke-linejoin:round; stroke-width:4; stroke-opacity:1; fill:none\" points=\"2292.39,1423.18 2292.39,1404.28 \"/>\n",
       "<path clip-path=\"url(#clip980)\" d=\"M678.543 1451.02 L696.899 1451.02 L696.899 1454.96 L682.825 1454.96 L682.825 1463.43 Q683.844 1463.08 684.862 1462.92 Q685.881 1462.73 686.899 1462.73 Q692.686 1462.73 696.066 1465.9 Q699.446 1469.08 699.446 1474.49 Q699.446 1480.07 695.973 1483.17 Q692.501 1486.25 686.182 1486.25 Q684.006 1486.25 681.737 1485.88 Q679.492 1485.51 677.085 1484.77 L677.085 1480.07 Q679.168 1481.2 681.39 1481.76 Q683.612 1482.32 686.089 1482.32 Q690.094 1482.32 692.432 1480.21 Q694.77 1478.1 694.77 1474.49 Q694.77 1470.88 692.432 1468.77 Q690.094 1466.67 686.089 1466.67 Q684.214 1466.67 682.339 1467.08 Q680.487 1467.5 678.543 1468.38 L678.543 1451.02 Z\" fill=\"#000000\" fill-rule=\"evenodd\" fill-opacity=\"1\" /><path clip-path=\"url(#clip980)\" d=\"M718.658 1454.1 Q715.047 1454.1 713.219 1457.66 Q711.413 1461.2 711.413 1468.33 Q711.413 1475.44 713.219 1479.01 Q715.047 1482.55 718.658 1482.55 Q722.293 1482.55 724.098 1479.01 Q725.927 1475.44 725.927 1468.33 Q725.927 1461.2 724.098 1457.66 Q722.293 1454.1 718.658 1454.1 M718.658 1450.39 Q724.469 1450.39 727.524 1455 Q730.603 1459.58 730.603 1468.33 Q730.603 1477.06 727.524 1481.67 Q724.469 1486.25 718.658 1486.25 Q712.848 1486.25 709.77 1481.67 Q706.714 1477.06 706.714 1468.33 Q706.714 1459.58 709.77 1455 Q712.848 1450.39 718.658 1450.39 Z\" fill=\"#000000\" fill-rule=\"evenodd\" fill-opacity=\"1\" /><path clip-path=\"url(#clip980)\" d=\"M1192.97 1481.64 L1200.61 1481.64 L1200.61 1455.28 L1192.29 1456.95 L1192.29 1452.69 L1200.56 1451.02 L1205.23 1451.02 L1205.23 1481.64 L1212.87 1481.64 L1212.87 1485.58 L1192.97 1485.58 L1192.97 1481.64 Z\" fill=\"#000000\" fill-rule=\"evenodd\" fill-opacity=\"1\" /><path clip-path=\"url(#clip980)\" d=\"M1232.32 1454.1 Q1228.71 1454.1 1226.88 1457.66 Q1225.07 1461.2 1225.07 1468.33 Q1225.07 1475.44 1226.88 1479.01 Q1228.71 1482.55 1232.32 1482.55 Q1235.95 1482.55 1237.76 1479.01 Q1239.59 1475.44 1239.59 1468.33 Q1239.59 1461.2 1237.76 1457.66 Q1235.95 1454.1 1232.32 1454.1 M1232.32 1450.39 Q1238.13 1450.39 1241.18 1455 Q1244.26 1459.58 1244.26 1468.33 Q1244.26 1477.06 1241.18 1481.67 Q1238.13 1486.25 1232.32 1486.25 Q1226.51 1486.25 1223.43 1481.67 Q1220.37 1477.06 1220.37 1468.33 Q1220.37 1459.58 1223.43 1455 Q1226.51 1450.39 1232.32 1450.39 Z\" fill=\"#000000\" fill-rule=\"evenodd\" fill-opacity=\"1\" /><path clip-path=\"url(#clip980)\" d=\"M1262.48 1454.1 Q1258.87 1454.1 1257.04 1457.66 Q1255.23 1461.2 1255.23 1468.33 Q1255.23 1475.44 1257.04 1479.01 Q1258.87 1482.55 1262.48 1482.55 Q1266.11 1482.55 1267.92 1479.01 Q1269.75 1475.44 1269.75 1468.33 Q1269.75 1461.2 1267.92 1457.66 Q1266.11 1454.1 1262.48 1454.1 M1262.48 1450.39 Q1268.29 1450.39 1271.35 1455 Q1274.42 1459.58 1274.42 1468.33 Q1274.42 1477.06 1271.35 1481.67 Q1268.29 1486.25 1262.48 1486.25 Q1256.67 1486.25 1253.59 1481.67 Q1250.54 1477.06 1250.54 1468.33 Q1250.54 1459.58 1253.59 1455 Q1256.67 1450.39 1262.48 1450.39 Z\" fill=\"#000000\" fill-rule=\"evenodd\" fill-opacity=\"1\" /><path clip-path=\"url(#clip980)\" d=\"M1722.48 1481.64 L1730.12 1481.64 L1730.12 1455.28 L1721.81 1456.95 L1721.81 1452.69 L1730.07 1451.02 L1734.75 1451.02 L1734.75 1481.64 L1742.39 1481.64 L1742.39 1485.58 L1722.48 1485.58 L1722.48 1481.64 Z\" fill=\"#000000\" fill-rule=\"evenodd\" fill-opacity=\"1\" /><path clip-path=\"url(#clip980)\" d=\"M1751.88 1451.02 L1770.24 1451.02 L1770.24 1454.96 L1756.16 1454.96 L1756.16 1463.43 Q1757.18 1463.08 1758.2 1462.92 Q1759.22 1462.73 1760.24 1462.73 Q1766.02 1462.73 1769.4 1465.9 Q1772.78 1469.08 1772.78 1474.49 Q1772.78 1480.07 1769.31 1483.17 Q1765.84 1486.25 1759.52 1486.25 Q1757.34 1486.25 1755.07 1485.88 Q1752.83 1485.51 1750.42 1484.77 L1750.42 1480.07 Q1752.5 1481.2 1754.73 1481.76 Q1756.95 1482.32 1759.43 1482.32 Q1763.43 1482.32 1765.77 1480.21 Q1768.11 1478.1 1768.11 1474.49 Q1768.11 1470.88 1765.77 1468.77 Q1763.43 1466.67 1759.43 1466.67 Q1757.55 1466.67 1755.68 1467.08 Q1753.82 1467.5 1751.88 1468.38 L1751.88 1451.02 Z\" fill=\"#000000\" fill-rule=\"evenodd\" fill-opacity=\"1\" /><path clip-path=\"url(#clip980)\" d=\"M1792 1454.1 Q1788.38 1454.1 1786.56 1457.66 Q1784.75 1461.2 1784.75 1468.33 Q1784.75 1475.44 1786.56 1479.01 Q1788.38 1482.55 1792 1482.55 Q1795.63 1482.55 1797.44 1479.01 Q1799.26 1475.44 1799.26 1468.33 Q1799.26 1461.2 1797.44 1457.66 Q1795.63 1454.1 1792 1454.1 M1792 1450.39 Q1797.81 1450.39 1800.86 1455 Q1803.94 1459.58 1803.94 1468.33 Q1803.94 1477.06 1800.86 1481.67 Q1797.81 1486.25 1792 1486.25 Q1786.19 1486.25 1783.11 1481.67 Q1780.05 1477.06 1780.05 1468.33 Q1780.05 1459.58 1783.11 1455 Q1786.19 1450.39 1792 1450.39 Z\" fill=\"#000000\" fill-rule=\"evenodd\" fill-opacity=\"1\" /><path clip-path=\"url(#clip980)\" d=\"M2256.08 1481.64 L2272.4 1481.64 L2272.4 1485.58 L2250.46 1485.58 L2250.46 1481.64 Q2253.12 1478.89 2257.7 1474.26 Q2262.31 1469.61 2263.49 1468.27 Q2265.74 1465.74 2266.62 1464.01 Q2267.52 1462.25 2267.52 1460.56 Q2267.52 1457.8 2265.57 1456.07 Q2263.65 1454.33 2260.55 1454.33 Q2258.35 1454.33 2255.9 1455.09 Q2253.47 1455.86 2250.69 1457.41 L2250.69 1452.69 Q2253.51 1451.55 2255.97 1450.97 Q2258.42 1450.39 2260.46 1450.39 Q2265.83 1450.39 2269.02 1453.08 Q2272.22 1455.77 2272.22 1460.26 Q2272.22 1462.39 2271.41 1464.31 Q2270.62 1466.2 2268.51 1468.8 Q2267.94 1469.47 2264.83 1472.69 Q2261.73 1475.88 2256.08 1481.64 Z\" fill=\"#000000\" fill-rule=\"evenodd\" fill-opacity=\"1\" /><path clip-path=\"url(#clip980)\" d=\"M2292.22 1454.1 Q2288.61 1454.1 2286.78 1457.66 Q2284.97 1461.2 2284.97 1468.33 Q2284.97 1475.44 2286.78 1479.01 Q2288.61 1482.55 2292.22 1482.55 Q2295.85 1482.55 2297.66 1479.01 Q2299.49 1475.44 2299.49 1468.33 Q2299.49 1461.2 2297.66 1457.66 Q2295.85 1454.1 2292.22 1454.1 M2292.22 1450.39 Q2298.03 1450.39 2301.08 1455 Q2304.16 1459.58 2304.16 1468.33 Q2304.16 1477.06 2301.08 1481.67 Q2298.03 1486.25 2292.22 1486.25 Q2286.41 1486.25 2283.33 1481.67 Q2280.27 1477.06 2280.27 1468.33 Q2280.27 1459.58 2283.33 1455 Q2286.41 1450.39 2292.22 1450.39 Z\" fill=\"#000000\" fill-rule=\"evenodd\" fill-opacity=\"1\" /><path clip-path=\"url(#clip980)\" d=\"M2322.38 1454.1 Q2318.77 1454.1 2316.94 1457.66 Q2315.13 1461.2 2315.13 1468.33 Q2315.13 1475.44 2316.94 1479.01 Q2318.77 1482.55 2322.38 1482.55 Q2326.01 1482.55 2327.82 1479.01 Q2329.65 1475.44 2329.65 1468.33 Q2329.65 1461.2 2327.82 1457.66 Q2326.01 1454.1 2322.38 1454.1 M2322.38 1450.39 Q2328.19 1450.39 2331.25 1455 Q2334.32 1459.58 2334.32 1468.33 Q2334.32 1477.06 2331.25 1481.67 Q2328.19 1486.25 2322.38 1486.25 Q2316.57 1486.25 2313.49 1481.67 Q2310.43 1477.06 2310.43 1468.33 Q2310.43 1459.58 2313.49 1455 Q2316.57 1450.39 2322.38 1450.39 Z\" fill=\"#000000\" fill-rule=\"evenodd\" fill-opacity=\"1\" /><path clip-path=\"url(#clip980)\" d=\"M1123.09 1533.45 L1123.09 1538.98 Q1120.61 1537.71 1117.94 1537.07 Q1115.26 1536.44 1112.4 1536.44 Q1108.04 1536.44 1105.84 1537.77 Q1103.68 1539.11 1103.68 1541.79 Q1103.68 1543.82 1105.24 1545 Q1106.8 1546.15 1111.51 1547.2 L1113.51 1547.64 Q1119.75 1548.98 1122.36 1551.43 Q1125 1553.85 1125 1558.21 Q1125 1563.17 1121.06 1566.07 Q1117.14 1568.97 1110.27 1568.97 Q1107.4 1568.97 1104.28 1568.39 Q1101.2 1567.85 1097.76 1566.74 L1097.76 1560.69 Q1101.01 1562.38 1104.16 1563.24 Q1107.31 1564.07 1110.39 1564.07 Q1114.53 1564.07 1116.76 1562.66 Q1118.99 1561.23 1118.99 1558.65 Q1118.99 1556.27 1117.37 1554.99 Q1115.77 1553.72 1110.33 1552.54 L1108.29 1552.07 Q1102.85 1550.92 1100.43 1548.56 Q1098.01 1546.18 1098.01 1542.04 Q1098.01 1537.01 1101.58 1534.27 Q1105.14 1531.54 1111.7 1531.54 Q1114.95 1531.54 1117.81 1532.01 Q1120.68 1532.49 1123.09 1533.45 Z\" fill=\"#000000\" fill-rule=\"evenodd\" fill-opacity=\"1\" /><path clip-path=\"url(#clip980)\" d=\"M1150.53 1550.12 Q1143.43 1550.12 1140.7 1551.75 Q1137.96 1553.37 1137.96 1557.29 Q1137.96 1560.4 1140 1562.25 Q1142.06 1564.07 1145.6 1564.07 Q1150.47 1564.07 1153.4 1560.63 Q1156.36 1557.16 1156.36 1551.43 L1156.36 1550.12 L1150.53 1550.12 M1162.21 1547.71 L1162.21 1568.04 L1156.36 1568.04 L1156.36 1562.63 Q1154.35 1565.88 1151.36 1567.44 Q1148.37 1568.97 1144.04 1568.97 Q1138.56 1568.97 1135.32 1565.91 Q1132.1 1562.82 1132.1 1557.67 Q1132.1 1551.65 1136.11 1548.6 Q1140.15 1545.54 1148.14 1545.54 L1156.36 1545.54 L1156.36 1544.97 Q1156.36 1540.93 1153.68 1538.73 Q1151.04 1536.5 1146.23 1536.5 Q1143.18 1536.5 1140.28 1537.23 Q1137.39 1537.97 1134.71 1539.43 L1134.71 1534.02 Q1137.93 1532.78 1140.95 1532.17 Q1143.97 1531.54 1146.84 1531.54 Q1154.57 1531.54 1158.39 1535.55 Q1162.21 1539.56 1162.21 1547.71 Z\" fill=\"#000000\" fill-rule=\"evenodd\" fill-opacity=\"1\" /><path clip-path=\"url(#clip980)\" d=\"M1202.03 1539.24 Q1204.23 1535.29 1207.28 1533.41 Q1210.34 1531.54 1214.47 1531.54 Q1220.04 1531.54 1223.07 1535.45 Q1226.09 1539.33 1226.09 1546.53 L1226.09 1568.04 L1220.2 1568.04 L1220.2 1546.72 Q1220.2 1541.59 1218.39 1539.11 Q1216.57 1536.63 1212.85 1536.63 Q1208.3 1536.63 1205.66 1539.65 Q1203.02 1542.68 1203.02 1547.9 L1203.02 1568.04 L1197.13 1568.04 L1197.13 1546.72 Q1197.13 1541.56 1195.31 1539.11 Q1193.5 1536.63 1189.71 1536.63 Q1185.22 1536.63 1182.58 1539.68 Q1179.94 1542.71 1179.94 1547.9 L1179.94 1568.04 L1174.05 1568.04 L1174.05 1532.4 L1179.94 1532.4 L1179.94 1537.93 Q1181.95 1534.66 1184.75 1533.1 Q1187.55 1531.54 1191.4 1531.54 Q1195.28 1531.54 1197.99 1533.51 Q1200.72 1535.48 1202.03 1539.24 Z\" fill=\"#000000\" fill-rule=\"evenodd\" fill-opacity=\"1\" /><path clip-path=\"url(#clip980)\" d=\"M1243.44 1562.7 L1243.44 1581.6 L1237.55 1581.6 L1237.55 1532.4 L1243.44 1532.4 L1243.44 1537.81 Q1245.28 1534.62 1248.09 1533.1 Q1250.92 1531.54 1254.83 1531.54 Q1261.33 1531.54 1265.37 1536.69 Q1269.44 1541.85 1269.44 1550.25 Q1269.44 1558.65 1265.37 1563.81 Q1261.33 1568.97 1254.83 1568.97 Q1250.92 1568.97 1248.09 1567.44 Q1245.28 1565.88 1243.44 1562.7 M1263.36 1550.25 Q1263.36 1543.79 1260.69 1540.13 Q1258.05 1536.44 1253.4 1536.44 Q1248.75 1536.44 1246.08 1540.13 Q1243.44 1543.79 1243.44 1550.25 Q1243.44 1556.71 1246.08 1560.4 Q1248.75 1564.07 1253.4 1564.07 Q1258.05 1564.07 1260.69 1560.4 Q1263.36 1556.71 1263.36 1550.25 Z\" fill=\"#000000\" fill-rule=\"evenodd\" fill-opacity=\"1\" /><path clip-path=\"url(#clip980)\" d=\"M1279.15 1518.52 L1285.01 1518.52 L1285.01 1568.04 L1279.15 1568.04 L1279.15 1518.52 Z\" fill=\"#000000\" fill-rule=\"evenodd\" fill-opacity=\"1\" /><path clip-path=\"url(#clip980)\" d=\"M1327.75 1548.76 L1327.75 1551.62 L1300.82 1551.62 Q1301.21 1557.67 1304.45 1560.85 Q1307.73 1564 1313.56 1564 Q1316.93 1564 1320.08 1563.17 Q1323.26 1562.35 1326.38 1560.69 L1326.38 1566.23 Q1323.23 1567.57 1319.92 1568.27 Q1316.61 1568.97 1313.21 1568.97 Q1304.68 1568.97 1299.68 1564 Q1294.71 1559.04 1294.71 1550.57 Q1294.71 1541.82 1299.42 1536.69 Q1304.17 1531.54 1312.19 1531.54 Q1319.38 1531.54 1323.55 1536.18 Q1327.75 1540.8 1327.75 1548.76 M1321.9 1547.04 Q1321.83 1542.23 1319.19 1539.37 Q1316.58 1536.5 1312.25 1536.5 Q1307.35 1536.5 1304.39 1539.27 Q1301.46 1542.04 1301.02 1547.07 L1321.9 1547.04 Z\" fill=\"#000000\" fill-rule=\"evenodd\" fill-opacity=\"1\" /><path clip-path=\"url(#clip980)\" d=\"M1380.81 1533.45 L1380.81 1538.98 Q1378.33 1537.71 1375.65 1537.07 Q1372.98 1536.44 1370.12 1536.44 Q1365.76 1536.44 1363.56 1537.77 Q1361.39 1539.11 1361.39 1541.79 Q1361.39 1543.82 1362.95 1545 Q1364.51 1546.15 1369.22 1547.2 L1371.23 1547.64 Q1377.47 1548.98 1380.08 1551.43 Q1382.72 1553.85 1382.72 1558.21 Q1382.72 1563.17 1378.77 1566.07 Q1374.86 1568.97 1367.98 1568.97 Q1365.12 1568.97 1362 1568.39 Q1358.91 1567.85 1355.47 1566.74 L1355.47 1560.69 Q1358.72 1562.38 1361.87 1563.24 Q1365.02 1564.07 1368.11 1564.07 Q1372.25 1564.07 1374.48 1562.66 Q1376.7 1561.23 1376.7 1558.65 Q1376.7 1556.27 1375.08 1554.99 Q1373.49 1553.72 1368.05 1552.54 L1366.01 1552.07 Q1360.57 1550.92 1358.15 1548.56 Q1355.73 1546.18 1355.73 1542.04 Q1355.73 1537.01 1359.29 1534.27 Q1362.86 1531.54 1369.42 1531.54 Q1372.66 1531.54 1375.53 1532.01 Q1378.39 1532.49 1380.81 1533.45 Z\" fill=\"#000000\" fill-rule=\"evenodd\" fill-opacity=\"1\" /><path clip-path=\"url(#clip980)\" d=\"M1392.05 1532.4 L1397.9 1532.4 L1397.9 1568.04 L1392.05 1568.04 L1392.05 1532.4 M1392.05 1518.52 L1397.9 1518.52 L1397.9 1525.93 L1392.05 1525.93 L1392.05 1518.52 Z\" fill=\"#000000\" fill-rule=\"evenodd\" fill-opacity=\"1\" /><path clip-path=\"url(#clip980)\" d=\"M1407.61 1532.4 L1435.43 1532.4 L1435.43 1537.74 L1413.4 1563.37 L1435.43 1563.37 L1435.43 1568.04 L1406.81 1568.04 L1406.81 1562.7 L1428.84 1537.07 L1407.61 1537.07 L1407.61 1532.4 Z\" fill=\"#000000\" fill-rule=\"evenodd\" fill-opacity=\"1\" /><path clip-path=\"url(#clip980)\" d=\"M1474.86 1548.76 L1474.86 1551.62 L1447.94 1551.62 Q1448.32 1557.67 1451.56 1560.85 Q1454.84 1564 1460.67 1564 Q1464.04 1564 1467.19 1563.17 Q1470.38 1562.35 1473.49 1560.69 L1473.49 1566.23 Q1470.34 1567.57 1467.03 1568.27 Q1463.72 1568.97 1460.32 1568.97 Q1451.79 1568.97 1446.79 1564 Q1441.83 1559.04 1441.83 1550.57 Q1441.83 1541.82 1446.54 1536.69 Q1451.28 1531.54 1459.3 1531.54 Q1466.49 1531.54 1470.66 1536.18 Q1474.86 1540.8 1474.86 1548.76 M1469.01 1547.04 Q1468.94 1542.23 1466.3 1539.37 Q1463.69 1536.5 1459.36 1536.5 Q1454.46 1536.5 1451.5 1539.27 Q1448.57 1542.04 1448.13 1547.07 L1469.01 1547.04 Z\" fill=\"#000000\" fill-rule=\"evenodd\" fill-opacity=\"1\" /><polyline clip-path=\"url(#clip982)\" style=\"stroke:#000000; stroke-linecap:round; stroke-linejoin:round; stroke-width:2; stroke-opacity:0.1; fill:none\" points=\"219.866,1197.86 2352.76,1197.86 \"/>\n",
       "<polyline clip-path=\"url(#clip982)\" style=\"stroke:#000000; stroke-linecap:round; stroke-linejoin:round; stroke-width:2; stroke-opacity:0.1; fill:none\" points=\"219.866,843.872 2352.76,843.872 \"/>\n",
       "<polyline clip-path=\"url(#clip982)\" style=\"stroke:#000000; stroke-linecap:round; stroke-linejoin:round; stroke-width:2; stroke-opacity:0.1; fill:none\" points=\"219.866,489.879 2352.76,489.879 \"/>\n",
       "<polyline clip-path=\"url(#clip982)\" style=\"stroke:#000000; stroke-linecap:round; stroke-linejoin:round; stroke-width:2; stroke-opacity:0.1; fill:none\" points=\"219.866,135.886 2352.76,135.886 \"/>\n",
       "<polyline clip-path=\"url(#clip980)\" style=\"stroke:#000000; stroke-linecap:round; stroke-linejoin:round; stroke-width:4; stroke-opacity:1; fill:none\" points=\"219.866,1423.18 219.866,47.2441 \"/>\n",
       "<polyline clip-path=\"url(#clip980)\" style=\"stroke:#000000; stroke-linecap:round; stroke-linejoin:round; stroke-width:4; stroke-opacity:1; fill:none\" points=\"219.866,1197.86 238.764,1197.86 \"/>\n",
       "<polyline clip-path=\"url(#clip980)\" style=\"stroke:#000000; stroke-linecap:round; stroke-linejoin:round; stroke-width:4; stroke-opacity:1; fill:none\" points=\"219.866,843.872 238.764,843.872 \"/>\n",
       "<polyline clip-path=\"url(#clip980)\" style=\"stroke:#000000; stroke-linecap:round; stroke-linejoin:round; stroke-width:4; stroke-opacity:1; fill:none\" points=\"219.866,489.879 238.764,489.879 \"/>\n",
       "<polyline clip-path=\"url(#clip980)\" style=\"stroke:#000000; stroke-linecap:round; stroke-linejoin:round; stroke-width:4; stroke-opacity:1; fill:none\" points=\"219.866,135.886 238.764,135.886 \"/>\n",
       "<path clip-path=\"url(#clip980)\" d=\"M128.288 1183.66 Q124.677 1183.66 122.848 1187.23 Q121.043 1190.77 121.043 1197.9 Q121.043 1205.01 122.848 1208.57 Q124.677 1212.11 128.288 1212.11 Q131.922 1212.11 133.728 1208.57 Q135.556 1205.01 135.556 1197.9 Q135.556 1190.77 133.728 1187.23 Q131.922 1183.66 128.288 1183.66 M128.288 1179.96 Q134.098 1179.96 137.154 1184.57 Q140.232 1189.15 140.232 1197.9 Q140.232 1206.63 137.154 1211.23 Q134.098 1215.82 128.288 1215.82 Q122.478 1215.82 119.399 1211.23 Q116.343 1206.63 116.343 1197.9 Q116.343 1189.15 119.399 1184.57 Q122.478 1179.96 128.288 1179.96 Z\" fill=\"#000000\" fill-rule=\"evenodd\" fill-opacity=\"1\" /><path clip-path=\"url(#clip980)\" d=\"M148.45 1209.26 L153.334 1209.26 L153.334 1215.14 L148.45 1215.14 L148.45 1209.26 Z\" fill=\"#000000\" fill-rule=\"evenodd\" fill-opacity=\"1\" /><path clip-path=\"url(#clip980)\" d=\"M167.547 1211.21 L183.866 1211.21 L183.866 1215.14 L161.922 1215.14 L161.922 1211.21 Q164.584 1208.45 169.167 1203.83 Q173.774 1199.17 174.954 1197.83 Q177.2 1195.31 178.079 1193.57 Q178.982 1191.81 178.982 1190.12 Q178.982 1187.37 177.038 1185.63 Q175.116 1183.89 172.014 1183.89 Q169.815 1183.89 167.362 1184.66 Q164.931 1185.42 162.153 1186.97 L162.153 1182.25 Q164.977 1181.12 167.431 1180.54 Q169.885 1179.96 171.922 1179.96 Q177.292 1179.96 180.487 1182.64 Q183.681 1185.33 183.681 1189.82 Q183.681 1191.95 182.871 1193.87 Q182.084 1195.77 179.977 1198.36 Q179.399 1199.03 176.297 1202.25 Q173.195 1205.45 167.547 1211.21 Z\" fill=\"#000000\" fill-rule=\"evenodd\" fill-opacity=\"1\" /><path clip-path=\"url(#clip980)\" d=\"M126.205 829.67 Q122.593 829.67 120.765 833.235 Q118.959 836.777 118.959 843.906 Q118.959 851.013 120.765 854.578 Q122.593 858.119 126.205 858.119 Q129.839 858.119 131.644 854.578 Q133.473 851.013 133.473 843.906 Q133.473 836.777 131.644 833.235 Q129.839 829.67 126.205 829.67 M126.205 825.967 Q132.015 825.967 135.07 830.573 Q138.149 835.157 138.149 843.906 Q138.149 852.633 135.07 857.24 Q132.015 861.823 126.205 861.823 Q120.394 861.823 117.316 857.24 Q114.26 852.633 114.26 843.906 Q114.26 835.157 117.316 830.573 Q120.394 825.967 126.205 825.967 Z\" fill=\"#000000\" fill-rule=\"evenodd\" fill-opacity=\"1\" /><path clip-path=\"url(#clip980)\" d=\"M146.366 855.272 L151.251 855.272 L151.251 861.152 L146.366 861.152 L146.366 855.272 Z\" fill=\"#000000\" fill-rule=\"evenodd\" fill-opacity=\"1\" /><path clip-path=\"url(#clip980)\" d=\"M174.283 830.666 L162.477 849.115 L174.283 849.115 L174.283 830.666 M173.056 826.592 L178.936 826.592 L178.936 849.115 L183.866 849.115 L183.866 853.004 L178.936 853.004 L178.936 861.152 L174.283 861.152 L174.283 853.004 L158.681 853.004 L158.681 848.49 L173.056 826.592 Z\" fill=\"#000000\" fill-rule=\"evenodd\" fill-opacity=\"1\" /><path clip-path=\"url(#clip980)\" d=\"M126.529 475.678 Q122.918 475.678 121.089 479.242 Q119.283 482.784 119.283 489.914 Q119.283 497.02 121.089 500.585 Q122.918 504.127 126.529 504.127 Q130.163 504.127 131.968 500.585 Q133.797 497.02 133.797 489.914 Q133.797 482.784 131.968 479.242 Q130.163 475.678 126.529 475.678 M126.529 471.974 Q132.339 471.974 135.394 476.58 Q138.473 481.164 138.473 489.914 Q138.473 498.641 135.394 503.247 Q132.339 507.83 126.529 507.83 Q120.718 507.83 117.64 503.247 Q114.584 498.641 114.584 489.914 Q114.584 481.164 117.64 476.58 Q120.718 471.974 126.529 471.974 Z\" fill=\"#000000\" fill-rule=\"evenodd\" fill-opacity=\"1\" /><path clip-path=\"url(#clip980)\" d=\"M146.691 501.279 L151.575 501.279 L151.575 507.159 L146.691 507.159 L146.691 501.279 Z\" fill=\"#000000\" fill-rule=\"evenodd\" fill-opacity=\"1\" /><path clip-path=\"url(#clip980)\" d=\"M172.339 488.016 Q169.19 488.016 167.339 490.168 Q165.51 492.321 165.51 496.071 Q165.51 499.798 167.339 501.974 Q169.19 504.127 172.339 504.127 Q175.487 504.127 177.315 501.974 Q179.167 499.798 179.167 496.071 Q179.167 492.321 177.315 490.168 Q175.487 488.016 172.339 488.016 M181.621 473.363 L181.621 477.622 Q179.862 476.789 178.056 476.349 Q176.274 475.909 174.514 475.909 Q169.885 475.909 167.431 479.034 Q165.001 482.159 164.653 488.479 Q166.019 486.465 168.079 485.4 Q170.139 484.312 172.616 484.312 Q177.825 484.312 180.834 487.483 Q183.866 490.631 183.866 496.071 Q183.866 501.395 180.718 504.613 Q177.57 507.83 172.339 507.83 Q166.343 507.83 163.172 503.247 Q160.001 498.641 160.001 489.914 Q160.001 481.719 163.89 476.858 Q167.778 471.974 174.329 471.974 Q176.089 471.974 177.871 472.321 Q179.676 472.668 181.621 473.363 Z\" fill=\"#000000\" fill-rule=\"evenodd\" fill-opacity=\"1\" /><path clip-path=\"url(#clip980)\" d=\"M126.783 121.685 Q123.172 121.685 121.343 125.25 Q119.538 128.791 119.538 135.921 Q119.538 143.027 121.343 146.592 Q123.172 150.134 126.783 150.134 Q130.417 150.134 132.223 146.592 Q134.052 143.027 134.052 135.921 Q134.052 128.791 132.223 125.25 Q130.417 121.685 126.783 121.685 M126.783 117.981 Q132.593 117.981 135.649 122.588 Q138.728 127.171 138.728 135.921 Q138.728 144.648 135.649 149.254 Q132.593 153.838 126.783 153.838 Q120.973 153.838 117.894 149.254 Q114.839 144.648 114.839 135.921 Q114.839 127.171 117.894 122.588 Q120.973 117.981 126.783 117.981 Z\" fill=\"#000000\" fill-rule=\"evenodd\" fill-opacity=\"1\" /><path clip-path=\"url(#clip980)\" d=\"M146.945 147.287 L151.829 147.287 L151.829 153.166 L146.945 153.166 L146.945 147.287 Z\" fill=\"#000000\" fill-rule=\"evenodd\" fill-opacity=\"1\" /><path clip-path=\"url(#clip980)\" d=\"M172.014 136.754 Q168.681 136.754 166.76 138.537 Q164.862 140.319 164.862 143.444 Q164.862 146.569 166.76 148.351 Q168.681 150.134 172.014 150.134 Q175.348 150.134 177.269 148.351 Q179.19 146.546 179.19 143.444 Q179.19 140.319 177.269 138.537 Q175.371 136.754 172.014 136.754 M167.339 134.764 Q164.329 134.023 162.64 131.963 Q160.973 129.902 160.973 126.939 Q160.973 122.796 163.913 120.389 Q166.876 117.981 172.014 117.981 Q177.176 117.981 180.116 120.389 Q183.056 122.796 183.056 126.939 Q183.056 129.902 181.366 131.963 Q179.7 134.023 176.714 134.764 Q180.093 135.551 181.968 137.842 Q183.866 140.134 183.866 143.444 Q183.866 148.467 180.788 151.152 Q177.732 153.838 172.014 153.838 Q166.297 153.838 163.218 151.152 Q160.163 148.467 160.163 143.444 Q160.163 140.134 162.061 137.842 Q163.959 135.551 167.339 134.764 M165.626 127.379 Q165.626 130.064 167.292 131.569 Q168.982 133.074 172.014 133.074 Q175.024 133.074 176.714 131.569 Q178.426 130.064 178.426 127.379 Q178.426 124.694 176.714 123.19 Q175.024 121.685 172.014 121.685 Q168.982 121.685 167.292 123.19 Q165.626 124.694 165.626 127.379 Z\" fill=\"#000000\" fill-rule=\"evenodd\" fill-opacity=\"1\" /><path clip-path=\"url(#clip980)\" d=\"M41.7242 743.137 Q42.4244 741.068 44.7161 739.127 Q47.0077 737.154 51.0181 735.18 L64.0042 728.655 L64.0042 735.562 L51.8138 741.641 Q47.0395 743.997 45.48 746.225 Q43.9204 748.421 43.9204 752.24 L43.9204 759.243 L64.0042 759.243 L64.0042 765.672 L16.4842 765.672 L16.4842 751.158 Q16.4842 743.01 19.8898 739 Q23.2955 734.989 30.1704 734.989 Q34.6582 734.989 37.6183 737.09 Q40.5784 739.159 41.7242 743.137 M21.7677 759.243 L38.6368 759.243 L38.6368 751.158 Q38.6368 746.511 36.5043 744.156 Q34.34 741.769 30.1704 741.769 Q26.0009 741.769 23.9002 744.156 Q21.7677 746.511 21.7677 751.158 L21.7677 759.243 Z\" fill=\"#000000\" fill-rule=\"evenodd\" fill-opacity=\"1\" /><path clip-path=\"url(#clip980)\" d=\"M39.1142 718.247 L39.1142 704.752 L42.7427 704.752 L42.7427 723.786 L39.2416 723.786 Q38.2549 722.703 36.4725 720.698 Q26.7648 709.749 23.7729 709.749 Q21.6722 709.749 20.3991 711.404 Q19.0941 713.059 19.0941 715.765 Q19.0941 717.42 19.667 719.361 Q20.2081 721.303 21.3221 723.595 L17.4072 723.595 Q16.516 721.144 16.0704 719.043 Q15.6248 716.911 15.6248 715.096 Q15.6248 710.481 17.7255 707.712 Q19.8262 704.943 23.2636 704.943 Q27.6878 704.943 36.7271 715.478 Q38.2549 717.261 39.1142 718.247 Z\" fill=\"#000000\" fill-rule=\"evenodd\" fill-opacity=\"1\" /><circle clip-path=\"url(#clip982)\" cx=\"280.231\" cy=\"661.717\" r=\"14.4\" fill=\"#009af9\" fill-rule=\"evenodd\" fill-opacity=\"1\" stroke=\"#000000\" stroke-opacity=\"1\" stroke-width=\"3.2\"/>\n",
       "<circle clip-path=\"url(#clip982)\" cx=\"386.134\" cy=\"666.938\" r=\"14.4\" fill=\"#009af9\" fill-rule=\"evenodd\" fill-opacity=\"1\" stroke=\"#000000\" stroke-opacity=\"1\" stroke-width=\"3.2\"/>\n",
       "<circle clip-path=\"url(#clip982)\" cx=\"492.037\" cy=\"667.681\" r=\"14.4\" fill=\"#009af9\" fill-rule=\"evenodd\" fill-opacity=\"1\" stroke=\"#000000\" stroke-opacity=\"1\" stroke-width=\"3.2\"/>\n",
       "<circle clip-path=\"url(#clip982)\" cx=\"597.941\" cy=\"667.905\" r=\"14.4\" fill=\"#009af9\" fill-rule=\"evenodd\" fill-opacity=\"1\" stroke=\"#000000\" stroke-opacity=\"1\" stroke-width=\"3.2\"/>\n",
       "<circle clip-path=\"url(#clip982)\" cx=\"703.844\" cy=\"668.486\" r=\"14.4\" fill=\"#009af9\" fill-rule=\"evenodd\" fill-opacity=\"1\" stroke=\"#000000\" stroke-opacity=\"1\" stroke-width=\"3.2\"/>\n",
       "<circle clip-path=\"url(#clip982)\" cx=\"809.747\" cy=\"668.866\" r=\"14.4\" fill=\"#009af9\" fill-rule=\"evenodd\" fill-opacity=\"1\" stroke=\"#000000\" stroke-opacity=\"1\" stroke-width=\"3.2\"/>\n",
       "<circle clip-path=\"url(#clip982)\" cx=\"915.65\" cy=\"664.565\" r=\"14.4\" fill=\"#009af9\" fill-rule=\"evenodd\" fill-opacity=\"1\" stroke=\"#000000\" stroke-opacity=\"1\" stroke-width=\"3.2\"/>\n",
       "<circle clip-path=\"url(#clip982)\" cx=\"1021.55\" cy=\"665.83\" r=\"14.4\" fill=\"#009af9\" fill-rule=\"evenodd\" fill-opacity=\"1\" stroke=\"#000000\" stroke-opacity=\"1\" stroke-width=\"3.2\"/>\n",
       "<circle clip-path=\"url(#clip982)\" cx=\"1127.46\" cy=\"665.633\" r=\"14.4\" fill=\"#009af9\" fill-rule=\"evenodd\" fill-opacity=\"1\" stroke=\"#000000\" stroke-opacity=\"1\" stroke-width=\"3.2\"/>\n",
       "<circle clip-path=\"url(#clip982)\" cx=\"1233.36\" cy=\"668.211\" r=\"14.4\" fill=\"#009af9\" fill-rule=\"evenodd\" fill-opacity=\"1\" stroke=\"#000000\" stroke-opacity=\"1\" stroke-width=\"3.2\"/>\n",
       "<circle clip-path=\"url(#clip982)\" cx=\"1339.26\" cy=\"666.227\" r=\"14.4\" fill=\"#009af9\" fill-rule=\"evenodd\" fill-opacity=\"1\" stroke=\"#000000\" stroke-opacity=\"1\" stroke-width=\"3.2\"/>\n",
       "<circle clip-path=\"url(#clip982)\" cx=\"1445.17\" cy=\"666.801\" r=\"14.4\" fill=\"#009af9\" fill-rule=\"evenodd\" fill-opacity=\"1\" stroke=\"#000000\" stroke-opacity=\"1\" stroke-width=\"3.2\"/>\n",
       "<circle clip-path=\"url(#clip982)\" cx=\"1551.07\" cy=\"666.637\" r=\"14.4\" fill=\"#009af9\" fill-rule=\"evenodd\" fill-opacity=\"1\" stroke=\"#000000\" stroke-opacity=\"1\" stroke-width=\"3.2\"/>\n",
       "<circle clip-path=\"url(#clip982)\" cx=\"1656.97\" cy=\"666.392\" r=\"14.4\" fill=\"#009af9\" fill-rule=\"evenodd\" fill-opacity=\"1\" stroke=\"#000000\" stroke-opacity=\"1\" stroke-width=\"3.2\"/>\n",
       "<circle clip-path=\"url(#clip982)\" cx=\"1762.88\" cy=\"666.842\" r=\"14.4\" fill=\"#009af9\" fill-rule=\"evenodd\" fill-opacity=\"1\" stroke=\"#000000\" stroke-opacity=\"1\" stroke-width=\"3.2\"/>\n",
       "<circle clip-path=\"url(#clip982)\" cx=\"1868.78\" cy=\"668.471\" r=\"14.4\" fill=\"#009af9\" fill-rule=\"evenodd\" fill-opacity=\"1\" stroke=\"#000000\" stroke-opacity=\"1\" stroke-width=\"3.2\"/>\n",
       "<circle clip-path=\"url(#clip982)\" cx=\"1974.68\" cy=\"665.828\" r=\"14.4\" fill=\"#009af9\" fill-rule=\"evenodd\" fill-opacity=\"1\" stroke=\"#000000\" stroke-opacity=\"1\" stroke-width=\"3.2\"/>\n",
       "<circle clip-path=\"url(#clip982)\" cx=\"2080.58\" cy=\"666.864\" r=\"14.4\" fill=\"#009af9\" fill-rule=\"evenodd\" fill-opacity=\"1\" stroke=\"#000000\" stroke-opacity=\"1\" stroke-width=\"3.2\"/>\n",
       "<circle clip-path=\"url(#clip982)\" cx=\"2186.49\" cy=\"666.561\" r=\"14.4\" fill=\"#009af9\" fill-rule=\"evenodd\" fill-opacity=\"1\" stroke=\"#000000\" stroke-opacity=\"1\" stroke-width=\"3.2\"/>\n",
       "<circle clip-path=\"url(#clip982)\" cx=\"2292.39\" cy=\"667.79\" r=\"14.4\" fill=\"#009af9\" fill-rule=\"evenodd\" fill-opacity=\"1\" stroke=\"#000000\" stroke-opacity=\"1\" stroke-width=\"3.2\"/>\n",
       "<polyline clip-path=\"url(#clip982)\" style=\"stroke:#000000; stroke-linecap:round; stroke-linejoin:round; stroke-width:4; stroke-opacity:1; fill:none\" points=\"280.231,1384.24 386.134,1171.24 492.037,1069.64 597.941,1012.8 703.844,979.431 809.747,948.787 915.65,922.406 1021.55,906.855 1127.46,898.002 1233.36,879.698 1339.26,867.406 1445.17,860.246 1551.07,853.139 1656.97,848.153 1762.88,837.54 1868.78,831.92 1974.68,826.812 2080.58,824.649 2186.49,819.813 2292.39,818.774 \"/>\n",
       "<polyline clip-path=\"url(#clip982)\" style=\"stroke:#000000; stroke-linecap:round; stroke-linejoin:round; stroke-width:4; stroke-opacity:1; fill:none\" points=\"280.231,86.1857 386.134,238.568 492.037,312.836 597.941,363.055 703.844,388.711 809.747,408.55 915.65,428.967 1021.55,446.322 1127.46,456.459 1233.36,467.712 1339.26,476.084 1445.17,484.006 1551.07,492.868 1656.97,498.94 1762.88,506.301 1868.78,511.525 1974.68,512.051 2080.58,516.915 2186.49,521.366 2292.39,524.57 \"/>\n",
       "</svg>\n"
      ]
     },
     "execution_count": 9,
     "metadata": {},
     "output_type": "execute_result"
    }
   ],
   "source": [
    "#1\n",
    "using GLM, Plots, DataFrames, Statistics\n",
    "\n",
    "sizes, reps = 10:10:200, 10000\n",
    "\n",
    "function sim_r²(n)\n",
    "    x = randn(n)\n",
    "    y = [1 + randn() + v for v in x]\n",
    "    df = DataFrame(x=x, y=y)\n",
    "    model = lm(@formula(y ~ x), df)\n",
    "    return r²(model)\n",
    "end\n",
    "\n",
    "r²_q95, r²_q5, r²_mean = Float64[], Float64[], Float64[]\n",
    "\n",
    "@time for s in sizes\n",
    "    @show s\n",
    "    result = [sim_r²(s) for _ in 1:reps]\n",
    "    push!(r²_mean, mean(result))\n",
    "    push!(r²_q5, quantile(result, 0.05))\n",
    "    push!(r²_q95, quantile(result, 0.95))\n",
    "end\n",
    "\n",
    "scatter(sizes, r²_mean, xlabel=\"sample size\", ylabel=\"R²\", legend=false)\n",
    "plot!(sizes, r²_q5, color=\"black\")\n",
    "plot!(sizes, r²_q95, color=\"black\")\n"
   ]
  },
  {
   "cell_type": "code",
   "execution_count": 10,
   "id": "9ffa63d8",
   "metadata": {},
   "outputs": [
    {
     "data": {
      "text/plain": [
       "run (generic function with 3 methods)"
      ]
     },
     "execution_count": 10,
     "metadata": {},
     "output_type": "execute_result"
    }
   ],
   "source": [
    "#2\n",
    "using GLM, Plots, DataFrames, Statistics, Random\n",
    "\n",
    "function sim_r²_k(n, k, reps)\n",
    "    x, y, result = ones(n, k+1), zeros(n), Float64[]\n",
    "    for _ in 1:reps\n",
    "        randn!(view(x, :, 1:k)); sum!(y, x)\n",
    "        for i in 1:n\n",
    "            y[i] += randn()\n",
    "        end\n",
    "        model = lm(x, y)\n",
    "        push!(result, r²(model))\n",
    "    end\n",
    "    return result\n",
    "end\n",
    "\n",
    "function run(k, reps=10000, maxn=200)\n",
    "    sizes = 10:10:maxn\n",
    "    r²_q95, r²_q5, r²_mean = Float64[], Float64[], Float64[]\n",
    "\n",
    "    @time for s in sizes\n",
    "        @show s\n",
    "        result = sim_r²_k(s, k, reps)\n",
    "        push!(r²_mean, mean(result))\n",
    "        push!(r²_q5, quantile(result, 0.05))\n",
    "        push!(r²_q95, quantile(result, 0.95))\n",
    "    end\n",
    "\n",
    "    scatter(sizes, r²_mean, xlabel=\"sample size\", ylabel=\"R²\", legend=false)\n",
    "    plot!(sizes, r²_q5, color=\"black\")\n",
    "    plot!(sizes, r²_q95, color=\"black\")\n",
    "end\n"
   ]
  },
  {
   "cell_type": "markdown",
   "id": "2ac6c8d0",
   "metadata": {},
   "source": [
    "# Lesson 7"
   ]
  },
  {
   "cell_type": "code",
   "execution_count": 1,
   "id": "da40fe65",
   "metadata": {},
   "outputs": [
    {
     "data": {
      "text/html": [
       "<div><div style = \"float: left;\"><span>2×11 DataFrame</span></div><div style = \"clear: both;\"></div></div><div class = \"data-frame\" style = \"overflow-x: scroll;\"><table class = \"data-frame\" style = \"margin-bottom: 6px;\"><thead><tr class = \"header\"><th class = \"rowNumber\" style = \"font-weight: bold; text-align: right;\">Row</th><th style = \"text-align: left;\">variable</th><th style = \"text-align: left;\">mean</th><th style = \"text-align: left;\">std</th><th style = \"text-align: left;\">min</th><th style = \"text-align: left;\">q25</th><th style = \"text-align: left;\">median</th><th style = \"text-align: left;\">q75</th><th style = \"text-align: left;\">max</th><th style = \"text-align: left;\">nunique</th><th style = \"text-align: left;\">nmissing</th><th style = \"text-align: left;\">eltype</th></tr><tr class = \"subheader headerLastRow\"><th class = \"rowNumber\" style = \"font-weight: bold; text-align: right;\"></th><th title = \"Symbol\" style = \"text-align: left;\">Symbol</th><th title = \"Float64\" style = \"text-align: left;\">Float64</th><th title = \"Float64\" style = \"text-align: left;\">Float64</th><th title = \"Float64\" style = \"text-align: left;\">Float64</th><th title = \"Float64\" style = \"text-align: left;\">Float64</th><th title = \"Float64\" style = \"text-align: left;\">Float64</th><th title = \"Float64\" style = \"text-align: left;\">Float64</th><th title = \"Float64\" style = \"text-align: left;\">Float64</th><th title = \"Nothing\" style = \"text-align: left;\">Nothing</th><th title = \"Int64\" style = \"text-align: left;\">Int64</th><th title = \"DataType\" style = \"text-align: left;\">DataType</th></tr></thead><tbody><tr><td class = \"rowNumber\" style = \"font-weight: bold; text-align: right;\">1</td><td style = \"text-align: left;\">MSE1</td><td style = \"text-align: right;\">9.007</td><td style = \"text-align: right;\">7.35172</td><td style = \"text-align: right;\">0.000553066</td><td style = \"text-align: right;\">3.64718</td><td style = \"text-align: right;\">7.10432</td><td style = \"text-align: right;\">12.3352</td><td style = \"text-align: right;\">94.9123</td><td style = \"font-style: italic; text-align: left;\"></td><td style = \"text-align: right;\">0</td><td style = \"text-align: left;\">Float64</td></tr><tr><td class = \"rowNumber\" style = \"font-weight: bold; text-align: right;\">2</td><td style = \"text-align: left;\">MSE2</td><td style = \"text-align: right;\">8.87933</td><td style = \"text-align: right;\">7.23078</td><td style = \"text-align: right;\">0.00102956</td><td style = \"text-align: right;\">3.60487</td><td style = \"text-align: right;\">7.01628</td><td style = \"text-align: right;\">12.1698</td><td style = \"text-align: right;\">93.9953</td><td style = \"font-style: italic; text-align: left;\"></td><td style = \"text-align: right;\">0</td><td style = \"text-align: left;\">Float64</td></tr></tbody></table></div>"
      ],
      "text/latex": [
       "\\begin{tabular}{r|cccccccccc}\n",
       "\t& variable & mean & std & min & q25 & median & q75 & max & nunique & \\\\\n",
       "\t\\hline\n",
       "\t& Symbol & Float64 & Float64 & Float64 & Float64 & Float64 & Float64 & Float64 & Nothing & \\\\\n",
       "\t\\hline\n",
       "\t1 & MSE1 & 9.007 & 7.35172 & 0.000553066 & 3.64718 & 7.10432 & 12.3352 & 94.9123 &  & $\\dots$ \\\\\n",
       "\t2 & MSE2 & 8.87933 & 7.23078 & 0.00102956 & 3.60487 & 7.01628 & 12.1698 & 93.9953 &  & $\\dots$ \\\\\n",
       "\\end{tabular}\n"
      ],
      "text/plain": [
       "\u001b[1m2×11 DataFrame\u001b[0m\n",
       "\u001b[1m Row \u001b[0m│\u001b[1m variable \u001b[0m\u001b[1m mean    \u001b[0m\u001b[1m std     \u001b[0m\u001b[1m min         \u001b[0m\u001b[1m q25     \u001b[0m\u001b[1m median  \u001b[0m\u001b[1m q75     \u001b[0m\u001b[1m max\u001b[0m ⋯\n",
       "     │\u001b[90m Symbol   \u001b[0m\u001b[90m Float64 \u001b[0m\u001b[90m Float64 \u001b[0m\u001b[90m Float64     \u001b[0m\u001b[90m Float64 \u001b[0m\u001b[90m Float64 \u001b[0m\u001b[90m Float64 \u001b[0m\u001b[90m Flo\u001b[0m ⋯\n",
       "─────┼──────────────────────────────────────────────────────────────────────────\n",
       "   1 │ MSE1      9.007    7.35172  0.000553066  3.64718  7.10432  12.3352  94. ⋯\n",
       "   2 │ MSE2      8.87933  7.23078  0.00102956   3.60487  7.01628  12.1698  93.\n",
       "\u001b[36m                                                               4 columns omitted\u001b[0m"
      ]
     },
     "execution_count": 1,
     "metadata": {},
     "output_type": "execute_result"
    }
   ],
   "source": [
    "using Statistics\n",
    "using DataFrames\n",
    "\n",
    "function test(μ)\n",
    "    result = [m + 3 * randn() for m in μ]\n",
    "    est1 = result\n",
    "    μ₀ = fill(20, length(μ))\n",
    "    est2 = μ₀ + max((1 - 1 / sum(x -> x^2, result - μ₀)), 0.0) * (result - μ₀)\n",
    "    return (MSE1 = mean(x -> x^2, est1 - μ),\n",
    "            MSE2 = mean(x -> x^2, est2 - μ))\n",
    "end\n",
    "\n",
    "experiment = DataFrame()\n",
    "for i in 1:1_000_000\n",
    "    push!(experiment, test([16, 18, 26]))\n",
    "end\n",
    "describe(experiment, :detailed)\n"
   ]
  }
 ],
 "metadata": {
  "kernelspec": {
   "display_name": "Julia 1.8.5",
   "language": "julia",
   "name": "julia-1.8"
  },
  "language_info": {
   "file_extension": ".jl",
   "mimetype": "application/julia",
   "name": "julia",
   "version": "1.8.5"
  }
 },
 "nbformat": 4,
 "nbformat_minor": 5
}
